{
  "nbformat": 4,
  "nbformat_minor": 0,
  "metadata": {
    "colab": {
      "provenance": []
    },
    "kernelspec": {
      "name": "python3",
      "display_name": "Python 3"
    },
    "language_info": {
      "name": "python"
    }
  },
  "cells": [
    {
      "cell_type": "code",
      "source": [
        "import speech_recognition as sr\n",
        "from pydub import AudioSegment"
      ],
      "metadata": {
        "id": "ERvv0zFaGmHY"
      },
      "execution_count": 10,
      "outputs": []
    },
    {
      "cell_type": "code",
      "source": [
        "!pip install pydub"
      ],
      "metadata": {
        "colab": {
          "base_uri": "https://localhost:8080/"
        },
        "id": "KtPe2XCHIJEZ",
        "outputId": "c33e41d2-abec-47a0-a508-82eaf394108e"
      },
      "execution_count": 11,
      "outputs": [
        {
          "output_type": "stream",
          "name": "stdout",
          "text": [
            "Requirement already satisfied: pydub in /usr/local/lib/python3.11/dist-packages (0.25.1)\n"
          ]
        }
      ]
    },
    {
      "cell_type": "code",
      "source": [
        "# Function to convert MP3 to WAV\n",
        "def convert_mp3_to_wav(mp3_file, wav_file):\n",
        "    audio = AudioSegment.from_mp3(mp3_file)\n",
        "    audio.export(wav_file, format=\"wav\")"
      ],
      "metadata": {
        "id": "IwX94izWIVFU"
      },
      "execution_count": 12,
      "outputs": []
    },
    {
      "cell_type": "code",
      "source": [
        "# Function to transcribe audio and extract the medical information\n",
        "def extract_medical_info(audio_file):\n",
        "  # Convert MP3 to WAV (if necessary)\n",
        "    if audio_file.endswith(\".mp3\"):\n",
        "        wav_file = \"converted_audio.wav\"\n",
        "        convert_mp3_to_wav(audio_file, wav_file)\n",
        "        audio_file = wav_file\n",
        "\n",
        "    # Initialize recognizer\n",
        "    recognizer = sr.Recognizer()\n",
        "\n",
        "    # Load the audio file\n",
        "    with sr.AudioFile(audio_file) as source:\n",
        "        audio_data = recognizer.record(source)\n",
        "\n",
        "    # Recognize speech using Google Web Speech API\n",
        "    try:\n",
        "        text = recognizer.recognize_google(audio_data)\n",
        "        print(\"Transcription: \", text)\n",
        "    except sr.UnknownValueError:\n",
        "        print(\"Could not understand the audio\")\n",
        "        return {}\n",
        "    except sr.RequestError:\n",
        "        print(\"Request failed, check your network connection\")\n",
        "        return {}\n",
        "\n",
        "    # Define keywords for different symptoms\n",
        "    symptoms = {\n",
        "        \"Pain Descriptions\": [\"burning\", \"stabbing\", \"pressure\"],\n",
        "        \"Respiratory Issues\": [\"shortness of breath\", \"coughing\"],\n",
        "        \"Neurological Issues\": [\"dizziness\", \"numbness\", \"headache\"],\n",
        "        \"Infection Signs\": [\"fever\", \"chills\", \"swelling\"]\n",
        "    }\n",
        "\n",
        "    # Create a dictionary to store matched symptoms\n",
        "    medical_info = {key: [] for key in symptoms}\n",
        "\n",
        "    # Check the transcribed text for each symptom keyword\n",
        "    for category, keywords in symptoms.items():\n",
        "        for keyword in keywords:\n",
        "            if keyword in text.lower():\n",
        "                medical_info[category].append(keyword)\n",
        "\n",
        "    # Filter out categories with no matches\n",
        "    medical_info = {category: values for category, values in medical_info.items() if values}\n",
        "\n",
        "    return medical_info"
      ],
      "metadata": {
        "id": "fXehkAKjHfJY"
      },
      "execution_count": 13,
      "outputs": []
    },
    {
      "cell_type": "code",
      "source": [
        "# Usage example\n",
        "audio_file = \"dizz.mp3\"  # Replace with your audio file path\n",
        "medical_info = extract_medical_info(audio_file)\n",
        "print(\"Extracted Information:\", medical_info)"
      ],
      "metadata": {
        "colab": {
          "base_uri": "https://localhost:8080/"
        },
        "id": "u-mTjZnnHt6e",
        "outputId": "340dd11a-3ea9-4d21-c31a-7987fec3c489"
      },
      "execution_count": 14,
      "outputs": [
        {
          "output_type": "stream",
          "name": "stdout",
          "text": [
            "Transcription:  I have dizziness\n",
            "Extracted Information: {'Neurological Issues': ['dizziness']}\n"
          ]
        }
      ]
    }
  ]
}